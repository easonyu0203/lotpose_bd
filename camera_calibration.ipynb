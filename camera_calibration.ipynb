{
 "cells": [
  {
   "attachments": {},
   "cell_type": "markdown",
   "metadata": {
    "collapsed": false
   },
   "source": [
    "# Camera Calibration\n",
    "\n",
    "In this notebook, I aim to get familiar with camera Calibration and how to use it to undistort images."
   ]
  },
  {
   "cell_type": "code",
   "execution_count": 1,
   "metadata": {
    "collapsed": true
   },
   "outputs": [],
   "source": [
    "import numpy as np\n",
    "import cv2 as cv\n",
    "import matplotlib.pyplot as plt\n",
    "import glob\n",
    "\n",
    "# termination criteria\n",
    "criteria = (cv.TERM_CRITERIA_EPS + cv.TERM_CRITERIA_MAX_ITER, 30, 0.001)\n",
    "# (points_per_row,points_per_colum)\n",
    "points_per_row = 6\n",
    "points_per_colum = 9\n",
    "pattern_size = (points_per_row, points_per_colum)"
   ]
  },
  {
   "cell_type": "code",
   "execution_count": 2,
   "metadata": {
    "collapsed": false
   },
   "outputs": [],
   "source": [
    "# prepare object points\n",
    "objp = np.zeros((points_per_row * points_per_colum, 3), np.float32)\n",
    "objp[:, :2] = np.mgrid[0:points_per_row, 0:points_per_colum].T.reshape(-1, 2)\n",
    "\n",
    "# Arrays to store object points and image points from all the images\n",
    "objpoints = []  # 3D points in real-world space\n",
    "imgpoints = []  # 2D points in image plane\n",
    "\n",
    "# Get all JPEG files in the current directory\n",
    "image_files = glob.glob('*.jpeg')\n",
    "\n",
    "for image_file in image_files:\n",
    "    # Read the image\n",
    "    img = cv.imread(image_file)\n",
    "\n",
    "    # Convert img to grayscale\n",
    "    gray = cv.cvtColor(img, cv.COLOR_BGR2GRAY)\n",
    "\n",
    "    # Find the chessboard corners\n",
    "    ret, corners = cv.findChessboardCorners(gray, pattern_size, None)\n",
    "\n",
    "    if ret:\n",
    "        # If corners are found, add object points and image points\n",
    "        objpoints.append(objp)\n",
    "        corners2 = cv.cornerSubPix(gray, corners, (11, 11), (-1, -1), criteria)\n",
    "        imgpoints.append(corners2)\n",
    "\n",
    "        # Draw and display the corners\n",
    "        cv.drawChessboardCorners(img, pattern_size, corners2, ret)\n",
    "\n",
    "        # wait a bit\n",
    "        cv.waitKey(1000)\n",
    "\n",
    "    # Display the img\n",
    "    cv.imshow('Image', img)\n",
    "\n",
    "    # Wait for key press\n",
    "    if cv.waitKey(5) == ord('q'):\n",
    "        break\n",
    "\n",
    "# Release the capture and destroy windows\n",
    "cv.destroyAllWindows()"
   ]
  },
  {
   "cell_type": "code",
   "execution_count": 6,
   "metadata": {
    "collapsed": false
   },
   "outputs": [
    {
     "data": {
      "text/plain": "True"
     },
     "execution_count": 6,
     "metadata": {},
     "output_type": "execute_result"
    }
   ],
   "source": [
    "# Calibrate camera\n",
    "ret, mtx, dist, rvecs, tvecs = cv.calibrateCamera(objpoints, imgpoints, gray.shape[::-1], None, None)\n",
    "\n",
    "# undistort image\n",
    "h,  w = img.shape[:2]\n",
    "newcameramtx, roi = cv.getOptimalNewCameraMatrix(mtx, dist, (w,h), 0, (w,h))\n",
    "\n",
    "# undistort\n",
    "dst = cv.undistort(img, mtx, dist, None, newcameramtx)\n",
    "# crop the image\n",
    "x, y, w, h = roi\n",
    "cv.imwrite('calibresult.png', dst)"
   ]
  },
  {
   "cell_type": "code",
   "execution_count": 7,
   "metadata": {
    "collapsed": false
   },
   "outputs": [
    {
     "name": "stdout",
     "output_type": "stream",
     "text": [
      "total error: 0.09902093682900776\n"
     ]
    }
   ],
   "source": [
    "mean_error = 0\n",
    "for i in range(len(objpoints)):\n",
    "    imgpoints2, _ = cv.projectPoints(objpoints[i], rvecs[i], tvecs[i], mtx, dist)\n",
    "    error = cv.norm(imgpoints[i], imgpoints2, cv.NORM_L2)/len(imgpoints2)\n",
    "    mean_error += error\n",
    "print( \"total error: {}\".format(mean_error/len(objpoints)) )"
   ]
  },
  {
   "cell_type": "markdown",
   "source": [
    "# Google media pip research"
   ],
   "metadata": {
    "collapsed": false
   }
  },
  {
   "cell_type": "code",
   "execution_count": 28,
   "outputs": [
    {
     "ename": "KeyboardInterrupt",
     "evalue": "",
     "output_type": "error",
     "traceback": [
      "\u001B[0;31m---------------------------------------------------------------------------\u001B[0m",
      "\u001B[0;31mKeyboardInterrupt\u001B[0m                         Traceback (most recent call last)",
      "Cell \u001B[0;32mIn[28], line 30\u001B[0m\n\u001B[1;32m     28\u001B[0m landmarker \u001B[38;5;241m=\u001B[39m PoseLandmarker\u001B[38;5;241m.\u001B[39mcreate_from_options(options)\n\u001B[1;32m     29\u001B[0m \u001B[38;5;28;01mwhile\u001B[39;00m \u001B[38;5;28;01mTrue\u001B[39;00m:\n\u001B[0;32m---> 30\u001B[0m     ret, frame \u001B[38;5;241m=\u001B[39m \u001B[43mcap\u001B[49m\u001B[38;5;241;43m.\u001B[39;49m\u001B[43mread\u001B[49m\u001B[43m(\u001B[49m\u001B[43m)\u001B[49m\n\u001B[1;32m     31\u001B[0m     \u001B[38;5;66;03m# cv2.imshow('frame', frame)\u001B[39;00m\n\u001B[1;32m     32\u001B[0m     mp_image \u001B[38;5;241m=\u001B[39m mp\u001B[38;5;241m.\u001B[39mImage(image_format\u001B[38;5;241m=\u001B[39mmp\u001B[38;5;241m.\u001B[39mImageFormat\u001B[38;5;241m.\u001B[39mSRGB, data\u001B[38;5;241m=\u001B[39mframe)\n",
      "\u001B[0;31mKeyboardInterrupt\u001B[0m: "
     ]
    }
   ],
   "source": [
    "import time\n",
    "import cv2\n",
    "import mediapipe as mp\n",
    "\n",
    "BaseOptions = mp.tasks.BaseOptions\n",
    "PoseLandmarker = mp.tasks.vision.PoseLandmarker\n",
    "PoseLandmarkerOptions = mp.tasks.vision.PoseLandmarkerOptions\n",
    "PoseLandmarkerResult = mp.tasks.vision.PoseLandmarkerResult\n",
    "VisionRunningMode = mp.tasks.vision.RunningMode\n",
    "\n",
    "aa_output_image = None\n",
    "\n",
    "def print_result(result: PoseLandmarkerResult, output_image: mp.Image, timestamp_ms: int):\n",
    "    # global aa_output_image\n",
    "    # print('pose landmarker result: {}'.format(result))\n",
    "    # aa_output_image = output_image\n",
    "    cv2.imshow('frame', output_image.numpy_view())\n",
    "\n",
    "model_path = \"/Users/Ethan/Developer/Projects/College/大四下/人工智慧/final/lotpose_bd/lotpose/checkpoints/pose_landmarker_lite.task\"\n",
    "options = PoseLandmarkerOptions(\n",
    "    base_options=BaseOptions(model_asset_path=model_path),\n",
    "    running_mode=VisionRunningMode.LIVE_STREAM,\n",
    "    result_callback=print_result\n",
    ")\n",
    "\n",
    "cap = cv2.VideoCapture(2)\n",
    "\n",
    "landmarker = PoseLandmarker.create_from_options(options)\n",
    "while True:\n",
    "    ret, frame = cap.read()\n",
    "    cv2.imshow('frame', frame)\n",
    "    mp_image = mp.Image(image_format=mp.ImageFormat.SRGB, data=frame)\n",
    "    landmarker.detect_async(mp_image, int(time.time() * 1000))\n",
    "    if cv2.waitKey(5) == ord('q'):\n",
    "        landmarker.close()\n",
    "        break"
   ],
   "metadata": {
    "collapsed": false,
    "ExecuteTime": {
     "end_time": "2023-05-21T03:07:57.068459Z",
     "start_time": "2023-05-21T03:07:37.726290Z"
    }
   }
  },
  {
   "cell_type": "code",
   "execution_count": null,
   "outputs": [],
   "source": [],
   "metadata": {
    "collapsed": false
   }
  }
 ],
 "metadata": {
  "kernelspec": {
   "display_name": "Python 3",
   "language": "python",
   "name": "python3"
  },
  "language_info": {
   "codemirror_mode": {
    "name": "ipython",
    "version": 3
   },
   "file_extension": ".py",
   "mimetype": "text/x-python",
   "name": "python",
   "nbconvert_exporter": "python",
   "pygments_lexer": "ipython3",
   "version": "3.11.2"
  }
 },
 "nbformat": 4,
 "nbformat_minor": 0
}
